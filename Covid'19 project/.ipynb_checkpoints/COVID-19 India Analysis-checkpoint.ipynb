{
 "cells": [
  {
   "cell_type": "markdown",
   "metadata": {},
   "source": [
    "# What is Corona Virus(COVID-19)?\n",
    "\n",
    "**Coronavirus is a family of viruses that can cause illness, which can vary from common cold and cough to sometimes more severe disease. SARS-CoV-2 (n-coronavirus) is the new virus of the coronavirus family, which first discovered in 2019, which has not been identified in humans before. It is a contiguous virus which started from Wuhan in December 2019. Which later declared as Pandemic by WHO due to high rate spreads throughout the world. Currently (on date 27 March 2020), this leads to a total of 24K+ Deaths across the globe, including 16K+ deaths alone in Europe.Pandemic is spreading all over the world; it becomes more important to understand about this spread. This NoteBook is an effort to analyze the cumulative data of confirmed, deaths, and recovered cases over time. In this notebook, the main focus is to analyze the spread trend of this virus all over the india.**"
   ]
  },
  {
   "cell_type": "markdown",
   "metadata": {},
   "source": [
    "# History of COVID-19 in India\n",
    "\n",
    "**On January 30, India reported its first case of COVID-19 in Kerala, which rose to three cases by February 3; all were students who had returned from Wuhan, China.No significant rise in cases was seen in the rest of February.**\n",
    "\n",
    "**On 22 March 2020, India observed a 14-hour voluntary public curfew at the instance of the prime minister Narendra Modi.The government followed it up with lockdowns in 75 districts where COVID cases had occurred as well as all major cities.Further, on 24 March, the prime minister ordered a nationwide lockdown for 21 days, affecting the entire 1.3 billion population of India.**\n",
    "\n",
    "**The transmission escalated during March, after several cases were reported all over the country, most of which were linked to people with a travel history to affected countries. On 12 March, a 76-year-old man who had returned from Saudi Arabia became the first victim of the virus in the country.On 4 March, 22 new cases came to light, including those of an Italian tourist group with 14 infected members.But number of cases start increasing dramtically after 19th March, but in the month of April it has been its peak.**\n",
    "\n",
    "**Experts suggest the number of infections could be much higher as India's testing rates are among the lowest in the world.The infection rate of COVID-19 in India is reported to be 1.7, significantly lower than in the worst affected countries.**\n",
    "\n",
    "Source: Wikipedia"
   ]
  },
  {
   "cell_type": "markdown",
   "metadata": {},
   "source": [
    "# Library"
   ]
  },
  {
   "cell_type": "code",
   "execution_count": null,
   "metadata": {
    "_cell_guid": "79c7e3d0-c299-4dcb-8224-4455121ee9b0",
    "_kg_hide-input": true,
    "_kg_hide-output": true,
    "_uuid": "d629ff2d2480ee46fbb7e2d37f6b5fab8052498a"
   },
   "outputs": [],
   "source": [
    "import numpy as np \n",
    "import pandas as pd \n",
    "from IPython.display import Markdown\n",
    "from datetime import timedelta\n",
    "import json, requests\n",
    "from datetime import datetime\n",
    "import glob\n",
    "import requests \n",
    "from bs4 import BeautifulSoup\n",
    "import matplotlib.pyplot as plt\n",
    "import plotly.express as px\n",
    "import plotly.graph_objs as go\n",
    "%matplotlib inline\n",
    "import seaborn as sns\n",
    "sns.set()\n",
    "import pycountry\n",
    "from plotly.offline import init_notebook_mode, iplot \n",
    "import plotly.offline as py\n",
    "import plotly.express as ex\n",
    "from plotly.offline import download_plotlyjs,init_notebook_mode,plot,iplot\n",
    "py.init_notebook_mode(connected=True)\n",
    "import folium \n",
    "from folium import plugins\n",
    "plt.style.use(\"seaborn-talk\")\n",
    "plt.rcParams['figure.figsize'] = 8, 5\n",
    "plt.rcParams['image.cmap'] = 'viridis'\n",
    "from fbprophet import Prophet\n",
    "pd.set_option('display.max_rows', None)\n",
    "from math import sin, cos, sqrt, atan2, radians\n",
    "import warnings\n",
    "warnings.filterwarnings(\"ignore\")\n",
    "import os\n",
    "for dirname, _, filenames in os.walk('/kaggle/input'):\n",
    "    for filename in filenames:\n",
    "        print(os.path.join(dirname, filename))"
   ]
  },
  {
   "cell_type": "markdown",
   "metadata": {},
   "source": [
    "# Uploading Data"
   ]
  },
  {
   "cell_type": "code",
   "execution_count": null,
   "metadata": {
    "_kg_hide-input": true,
    "_kg_hide-output": true
   },
   "outputs": [],
   "source": [
    "'''\n",
    "def get_distance_between_lats_lons(lat1,lon1,lat2,lon2):\n",
    "# approximate radius of earth in km\n",
    "        R = 6373\n",
    "        lat1 = radians(lat1)\n",
    "        lon1 = radians(lon1)\n",
    "        lat2 = radians(lat2)\n",
    "        lon2 = radians(lon2)\n",
    "        dlon = lon2 - lon1\n",
    "        dlat = lat2 - lat1\n",
    "        a = sin(dlat / 2)**2 + cos(lat1) * cos(lat2) * sin(dlon / 2)**2\n",
    "        c = 2 * atan2(sqrt(a), sqrt(1 - a))\n",
    "        distance = R * c\n",
    "        return(distance)\n",
    "city_wise_coordinates= pd.read_csv('../input/indian-postal-codes/IndiaPostalCodes - IndiaPostalCodes.csv')\n",
    "city_wise_coordinates['City'] = city_wise_coordinates['City'].str.upper()\n",
    "city_wise_coordinates['District'] = city_wise_coordinates['District'].str.upper()\n",
    "city_wise_coordinates['State'] = city_wise_coordinates['State'].str.upper()\n",
    "district_wise_pin_states= city_wise_coordinates.groupby('District')['PIN','State'].agg(lambda x:x.value_counts().index[0])\n",
    "district_wise_lat_lng= city_wise_coordinates.groupby('District')['Lat','Lng'].agg(pd.Series.mean)\n",
    "district_wise_data_geonames= district_wise_pin_states.merge(district_wise_lat_lng,left_on='District', right_on='District', how= 'inner').reset_index()\n",
    "dfp= pd.read_json(\"https://api.covid19india.org/raw_data.json\")## data from covid19india.org\n",
    "df3= []\n",
    "for row in range(0,dfp.shape[0]):\n",
    "    df1= dfp['raw_data'][row]\n",
    "    df2=pd.DataFrame(df1.items()).set_index(0)\n",
    "    df3.append(df2.T)           \n",
    "appended_data = pd.concat(df3, sort=False)\n",
    "appended_data.replace(r'^\\s*$', np.nan, regex=True, inplace = True) \n",
    "appended_data.rename(columns={'detectedcity':'City'}, inplace=True)\n",
    "appended_data.rename(columns={'detecteddistrict':'District'}, inplace=True)\n",
    "appended_data.rename(columns={'detectedstate':'State'}, inplace=True)\n",
    "appended_data['City'] = appended_data['City'].str.upper()\n",
    "appended_data['District'] = appended_data['District'].str.upper()\n",
    "appended_data['State'] = appended_data['State'].str.upper()\n",
    "appended_data= appended_data.dropna(thresh=3)\n",
    "district_wise_counts= appended_data.groupby('District').agg({'patientnumber': 'count'})\n",
    "district_wise_counts.rename(columns={'patientnumber':'d_patient_counts'}, inplace=True)\n",
    "district_wise_counts =district_wise_counts.reset_index()\n",
    "district_wise_counts['District'] = district_wise_counts['District'].str.upper()\n",
    "corona_db_with_latlng= district_wise_counts.merge(district_wise_data_geonames, left_on='District', right_on='District', how= 'inner')\n",
    "corona_db_with_latlng.rename(columns={'d_patient_counts':'Num_Positive_cases'}, inplace=True)\n",
    "def get_idx_distance_from_query_locations(q_lat, q_lng, corona_db_with_latlng):\n",
    "    dist_array=[]\n",
    "    for index, row in corona_db_with_latlng.iterrows():\n",
    "        dist= int(get_distance_between_lats_lons(q_lat,q_lng,row['Lat'],row['Lng']))\n",
    "        dist_array.append(dist)  \n",
    "    minpos = dist_array.index(min(dist_array)) \n",
    "    mindist= dist_array[minpos]\n",
    "    cases= corona_db_with_latlng.loc[minpos,'Num_Positive_cases']\n",
    "    location= corona_db_with_latlng.loc[minpos,'District']\n",
    "    state= corona_db_with_latlng.loc[minpos,'State']\n",
    "    Lats= corona_db_with_latlng.loc[minpos,'Lat']\n",
    "    Lngs= corona_db_with_latlng.loc[minpos,'Lng']\n",
    "    return(mindist, cases, location, state)\n",
    "def get_nearest_covid19_stats(query_info,corona_db_with_latlng):\n",
    "    if query_info.PIN.iloc[1] in corona_db_with_latlng['PIN'].values:\n",
    "        mindist= 2\n",
    "        Lat= corona_db_with_latlng.loc[corona_db_with_latlng.PIN==query_info.PIN.iloc[1], 'Lat'];\n",
    "        Lng= corona_db_with_latlng.loc[corona_db_with_latlng.PIN==query_info.PIN.iloc[1], 'Lng'];\n",
    "        mindist= int(get_distance_between_lats_lons(query_info.Lat.iloc[1] ,query_info.Lng.iloc[1], Lat,Lng))\n",
    "        cases= corona_db_with_latlng.loc[corona_db_with_latlng.PIN==query_info.PIN.iloc[1], 'Num_Positive_cases']\n",
    "        district= corona_db_with_latlng.loc[corona_db_with_latlng.PIN==query_info.PIN.iloc[1], 'District']\n",
    "        state= corona_db_with_latlng.loc[corona_db_with_latlng.PIN==query_info.PIN.iloc[1], 'State']\n",
    "        print(\"The nearest location with COVID-19 from your PIN is in your own Postal Location with {} number of positive cases\".format(cases.values[0]))\n",
    "        print(\"Location: {} , {}\".format(district.values[0].upper(), state.values[0].upper()))\n",
    "    else:\n",
    "        (mindist, cases, district, state) = get_idx_distance_from_query_locations(query_info.Lat.iloc[1] ,query_info.Lng.iloc[1], corona_db_with_latlng)  \n",
    "        print(\"The nearest location with COVID-19 from your PIN is within {} km with {} number of positive cases\".format(mindist, cases))\n",
    "        print(\"Location: {} , {}\".format(district.upper(), state.upper()))\n",
    "        \n",
    "'''"
   ]
  },
  {
   "cell_type": "code",
   "execution_count": null,
   "metadata": {
    "_kg_hide-input": true,
    "_kg_hide-output": true
   },
   "outputs": [],
   "source": [
    "link = 'https://www.mohfw.gov.in/'\n",
    "req = requests.get(link)\n",
    "soup = BeautifulSoup(req.content, \"html.parser\")\n",
    "thead = soup.find_all('thead')[-1]\n",
    "head = thead.find_all('tr')\n",
    "tbody = soup.find_all('tbody')[-1]\n",
    "body = tbody.find_all('tr')\n",
    "head_rows = []\n",
    "body_rows = []\n",
    "for tr in head:\n",
    "    td = tr.find_all(['th', 'td'])\n",
    "    row = [i.text for i in td]\n",
    "    head_rows.append(row)   \n",
    "for tr in body:\n",
    "    td = tr.find_all(['th', 'td'])\n",
    "    row = [i.text for i in td]\n",
    "    body_rows.append(row)\n",
    "df_bs = pd.DataFrame(body_rows[:len(body_rows)-1], columns=head_rows[0])   \n",
    "df_bs.drop('S. No.', axis=1, inplace=True)\n",
    "#To remove last raw\n",
    "df_bs.drop(df_bs.tail(2).index,axis = 0,inplace=True)\n",
    "#df_bs.drop(df_bs.tail(1).index,axis = 0,inplace=True)\n",
    "#df_bs.drop(df_bs.tail(1).index,axis = 0,inplace=True)\n",
    "now  = datetime.now()\n",
    "df_bs['Date'] = now.strftime(\"%m/%d/%Y\") \n",
    "df_bs['Date'] = pd.to_datetime(df_bs['Date'], format='%m/%d/%Y')\n",
    "df_bs.rename(columns = {'Deaths ( more than 70% cases due to comorbidities )':'Death'},inplace = True)\n",
    "#df_bs"
   ]
  },
  {
   "cell_type": "code",
   "execution_count": null,
   "metadata": {
    "_kg_hide-input": true,
    "_kg_hide-output": true
   },
   "outputs": [],
   "source": [
    "locations = {\n",
    "    \"Kerala\" : [10.8505,76.2711],\n",
    "    \"Maharashtra\" : [19.7515,75.7139],\n",
    "    \"Karnataka\": [15.3173,75.7139],\n",
    "    \"Telangana\": [18.1124,79.0193],\n",
    "    \"Uttar Pradesh\": [26.8467,80.9462],\n",
    "    \"Rajasthan\": [27.0238,74.2179],\n",
    "    \"Gujarat\":[22.2587,71.1924],\n",
    "    \"Delhi\" : [28.7041,77.1025],\n",
    "    \"Punjab\":[31.1471,75.3412],\n",
    "    \"Tamil Nadu\": [11.1271,78.6569],\n",
    "    \"Haryana\": [29.0588,76.0856],\n",
    "    \"Madhya Pradesh\":[22.9734,78.6569],\n",
    "    \"Jammu and Kashmir\":[33.7782,76.5762],\n",
    "    \"Ladakh\": [34.1526,77.5770],\n",
    "    \"Andhra Pradesh\":[15.9129,79.7400],\n",
    "    \"West Bengal\": [22.9868,87.8550],\n",
    "    \"Bihar\": [25.0961,85.3131],\n",
    "    \"Chhattisgarh\":[21.2787,81.8661],\n",
    "    \"Chandigarh\":[30.7333,76.7794],\n",
    "    \"Uttarakhand\":[30.0668,79.0193],\n",
    "    \"Himachal Pradesh\":[31.1048,77.1734],\n",
    "    \"Goa\": [15.2993,74.1240],\n",
    "    \"Odisha\":[20.9517,85.0985],\n",
    "    \"Andaman and Nicobar Islands\": [11.7401,92.6586],\n",
    "    \"Puducherry\":[11.9416,79.8083],\n",
    "    \"Manipur\":[24.6637,93.9063],\n",
    "    \"Mizoram\":[23.1645,92.9376],\n",
    "    \"Assam\":[26.2006,92.9376],\n",
    "    \"Meghalaya\":[25.4670,91.3662],\n",
    "    \"Tripura\":[23.9408,91.9882],\n",
    "    \"Arunachal Pradesh\":[28.2180,94.7278],\n",
    "    \"Jharkhand\" : [23.6102,85.2799],\n",
    "    \"Nagaland\": [26.1584,94.5624],\n",
    "    \"Sikkim\": [27.5330,88.5122],\n",
    "    \"Dadra and Nagar Haveli\":[20.1809,73.0169],\n",
    "    \"Lakshadweep\":[10.5667,72.6417],\n",
    "    \"Daman and Diu\":[20.4283,72.8397]   \n",
    "}"
   ]
  },
  {
   "cell_type": "code",
   "execution_count": null,
   "metadata": {
    "_kg_hide-input": true,
    "_kg_hide-output": true
   },
   "outputs": [],
   "source": [
    "lat = {'Delhi':28.7041,\n",
    "       'Haryana':29.0588,\n",
    "       'Kerala':10.8505,\n",
    "       'Rajasthan':27.0238,\n",
    "       'Telengana':18.1124,\n",
    "       'Uttar Pradesh':26.8467,\n",
    "       'Ladakh':34.2996,\n",
    "       'Tamil Nadu':11.1271,\n",
    "       'Jammu and Kashmir':33.7782,\n",
    "       'Punjab':31.1471,\n",
    "       'Karnataka':15.3173,\n",
    "       'Maharashtra':19.7515,\n",
    "       'Andhra Pradesh':15.9129, \n",
    "       'Odisha':20.9517, \n",
    "       'Uttarakhand':30.0668, \n",
    "       'West Bengal':22.9868, \n",
    "       'Puducherry': 11.9416, \n",
    "       'Chandigarh': 30.7333, \n",
    "       'Chhattisgarh':21.2787, \n",
    "       'Gujarat': 22.2587, \n",
    "       'Himachal Pradesh': 31.1048, \n",
    "       'Madhya Pradesh': 22.9734, \n",
    "       'Bihar': 25.0961, \n",
    "       'Manipur':24.6637,\n",
    "       'Mizoram':23.1645,\n",
    "        'Goa':15.2993,\n",
    "     'Andaman and Nicobar Islands':11.7401,\n",
    "      \"Jharkhand\" : 23.6102,\n",
    "      'Arunachal Pradesh': 28.2180,\n",
    "      'Assam' : 26.2006,\n",
    "      'Tripura':23.9408,\n",
    "      'Meghalaya':25.4670,\n",
    "      'Nagaland#':26.1584}\n",
    "\n",
    "long = {'Delhi':77.1025,\n",
    "        'Haryana':76.0856,\n",
    "        'Kerala':76.2711,\n",
    "        'Rajasthan':74.2179,\n",
    "        'Telengana':79.0193,\n",
    "        'Uttar Pradesh':80.9462,\n",
    "        'Ladakh':78.2932,\n",
    "        'Tamil Nadu':78.6569,\n",
    "        'Jammu and Kashmir':76.5762,\n",
    "        'Punjab':75.3412,\n",
    "        'Karnataka':75.7139,\n",
    "        'Maharashtra':75.7139,\n",
    "        'Andhra Pradesh':79.7400, \n",
    "        'Odisha':85.0985, \n",
    "        'Uttarakhand':79.0193, \n",
    "        'West Bengal':87.8550, \n",
    "        'Puducherry': 79.8083, \n",
    "        'Chandigarh': 76.7794, \n",
    "        'Chhattisgarh':81.8661, \n",
    "        'Gujarat': 71.1924, \n",
    "        'Himachal Pradesh': 77.1734, \n",
    "        'Madhya Pradesh': 78.6569, \n",
    "        'Bihar': 85.3131, \n",
    "        'Manipur':93.9063,\n",
    "        'Mizoram':92.9376,\n",
    "         'Goa':74.1240,\n",
    "        \"Jharkhand\" : 85.2799,\n",
    "       'Andaman and Nicobar Islands':92.6586,\n",
    "       'Arunachal Pradesh' :94.7278,\n",
    "        'Assam' : 92.9376,\n",
    "        'Tripura':91.9882,\n",
    "        'Meghalaya':91.3662,\n",
    "        'Nagaland#':94.5624\n",
    "       }\n",
    "df_bs['Latitude'] = df_bs['Name of State / UT'].map(lat)\n",
    "df_bs['Longitude'] = df_bs['Name of State / UT'].map(long)\n",
    "df_bs['Total cases'] = df_bs.iloc[:,1]\n",
    "#df_bs['Death'] = df_bs.iloc[:,3]\n",
    "#data['Active cases'] = data['Total cases'] - (data['Cured/Discharged/Migrated'] + data['Death'])"
   ]
  },
  {
   "cell_type": "code",
   "execution_count": null,
   "metadata": {
    "_kg_hide-input": true,
    "_kg_hide-output": true
   },
   "outputs": [],
   "source": [
    "# complete data\n",
    "\n",
    "file_name = now.strftime(\"%Y_%m_%d\")+'.csv'\n",
    "file_loc = ''\n",
    "df_bs.to_csv(file_loc + file_name, index=False)\n",
    "loc = \"\"\n",
    "files = glob.glob(loc+'2020*.csv')\n",
    "dfs = []\n",
    "for i in files:\n",
    "    df_temp = pd.read_csv(i)\n",
    "    df_temp = df_temp.rename(columns={'Cured':'Cured/Discharged'})\n",
    "    df_temp = df_temp.rename(columns={'Cured/Discharged':'Cured/Discharged/Migrated',\n",
    "                                      'Deaths ( more than 70% cases due to comorbidities )':'Death'})\n",
    "    dfs.append(df_temp)\n",
    "    \n",
    "# print(dfs)\n",
    "\n",
    "complete_data = pd.concat(dfs, ignore_index=True).sort_values(['Date'], ascending=True).reset_index(drop=True)\n",
    "complete_data['Date'] = pd.to_datetime(complete_data['Date'])\n",
    "complete_data = complete_data.sort_values(['Date', 'Name of State / UT']).reset_index(drop=True)\n",
    "cols = ['Total cases','Cured/Discharged/Migrated', 'Death']\n",
    "tot = complete_data.iloc[:,1]\n",
    "complete_data[cols] = complete_data[cols].fillna(0).astype('int')"
   ]
  },
  {
   "cell_type": "code",
   "execution_count": null,
   "metadata": {
    "_kg_hide-input": true
   },
   "outputs": [],
   "source": [
    "symptoms={'symptom':['Fever',\n",
    "        'Dry cough',\n",
    "        'Fatigue',\n",
    "        'Sputum production',\n",
    "        'Shortness of breath',\n",
    "        'Muscle pain',\n",
    "        'Sore throat',\n",
    "        'Headache',\n",
    "        'Chills',\n",
    "        'Nausea or vomiting',\n",
    "        'Nasal congestion',\n",
    "        'Diarrhoea',\n",
    "        'Haemoptysis',\n",
    "        'Conjunctival congestion'],'percentage':[87.9,67.7,38.1,33.4,18.6,14.8,13.9,13.6,11.4,5.0,4.8,3.7,0.9,0.8]}\n",
    "\n",
    "symptoms=pd.DataFrame(data=symptoms,index=range(14))"
   ]
  },
  {
   "cell_type": "code",
   "execution_count": null,
   "metadata": {
    "_kg_hide-input": true,
    "_kg_hide-output": true
   },
   "outputs": [],
   "source": [
    "data = pd.DataFrame(complete_data)\n",
    "covid_19_India = pd.read_csv('../input/covid19-in-india/covid_19_india.csv')\n",
    "df = pd.read_csv('../input/covid19-corona-virus-india-dataset/complete.csv', parse_dates=['Date'])\n",
    "p_df = pd.read_csv('../input/covid19-corona-virus-india-dataset/patients_data.csv')\n",
    "p_df['date_announced'] = pd.to_datetime(p_df['date_announced'], errors = 'coerce')\n",
    "p_df['date_announced'] = pd.to_datetime(p_df['date_announced'], format='%d/%m/%Y')\n",
    "p_df['status_change_date'] = pd.to_datetime(p_df['status_change_date'], format='%d/%m/%Y')\n",
    "p_df['nationality'] = p_df['nationality'].replace('Indian', 'India')\n",
    "india_data_json = requests.get('https://api.rootnet.in/covid19-in/unofficial/covid19india.org/statewise').json()\n",
    "df_india = pd.io.json.json_normalize(india_data_json['data']['statewise'])\n",
    "df_india = df_india.set_index(\"state\")\n",
    "test1 = pd.read_csv('../input/icmr-testing-data/testing data.csv')\n",
    "state_data = pd.read_csv('https://api.covid19india.org/csv/latest/state_wise.csv')"
   ]
  },
  {
   "cell_type": "code",
   "execution_count": null,
   "metadata": {
    "_kg_hide-input": true
   },
   "outputs": [],
   "source": [
    "#ssd = pd.read_csv('https://api.covid19india.org/csv/latest/raw_data.csv')\n",
    "#ssd"
   ]
  },
  {
   "cell_type": "markdown",
   "metadata": {},
   "source": [
    "# Data Cleaning"
   ]
  },
  {
   "cell_type": "code",
   "execution_count": null,
   "metadata": {
    "_kg_hide-input": true
   },
   "outputs": [],
   "source": [
    "covid_19_India.drop(['ConfirmedIndianNational','ConfirmedForeignNational'],axis=1, inplace = True)\n",
    "covid_19_India['Active']= covid_19_India['Confirmed']- (covid_19_India['Cured'] + covid_19_India['Deaths'])"
   ]
  },
  {
   "cell_type": "code",
   "execution_count": null,
   "metadata": {
    "_kg_hide-input": true
   },
   "outputs": [],
   "source": [
    "data['Active cases'] = data['Total cases'] - (data['Cured/Discharged/Migrated'] + data['Death']).astype('int')\n",
    "data.to_csv('state_wise_data.csv',index=False)"
   ]
  },
  {
   "cell_type": "code",
   "execution_count": null,
   "metadata": {
    "_kg_hide-input": true,
    "_kg_hide-output": true
   },
   "outputs": [],
   "source": [
    "df['Name of State / UT'] = df['Name of State / UT'].str.replace('Union Territory of ', '')\n",
    "df = df[['Date', 'Name of State / UT', 'Latitude', 'Longitude', 'Total Confirmed cases', 'Death', 'Cured/Discharged/Migrated']]\n",
    "df.columns = ['Date', 'State/UT', 'Latitude', 'Longitude', 'Confirmed', 'Deaths', 'Cured']\n",
    "\n",
    "for i in ['Confirmed', 'Deaths', 'Cured']:\n",
    "    df[i] = df[i].astype('int')\n",
    "    \n",
    "df['Active'] = df['Confirmed'] - df['Deaths'] - df['Cured']\n",
    "df['Mortality rate'] = df['Deaths']/df['Confirmed']\n",
    "df['Recovery rate'] = df['Cured']/df['Confirmed']\n",
    "\n",
    "df = df[['Date', 'State/UT', 'Latitude', 'Longitude', 'Confirmed', 'Active', 'Deaths', 'Mortality rate', 'Cured', 'Recovery rate']]"
   ]
  },
  {
   "cell_type": "code",
   "execution_count": null,
   "metadata": {
    "_kg_hide-input": true,
    "_kg_hide-output": true
   },
   "outputs": [],
   "source": [
    "latest = df[df['Date']==max(df['Date'])]\n",
    "\n",
    "# days\n",
    "latest_day = max(df['Date'])\n",
    "day_before = latest_day - timedelta(days = 1)\n",
    "\n",
    "# state and total cases \n",
    "latest_day_df = df[df['Date']==latest_day].set_index('State/UT')\n",
    "day_before_df = df[df['Date']==day_before].set_index('State/UT')\n",
    "temp = pd.merge(left = latest_day_df, right = day_before_df, on='State/UT', suffixes=('_lat', '_bfr'), how='outer')\n",
    "latest_day_df['New cases'] = temp['Confirmed_lat'] - temp['Confirmed_bfr']\n",
    "latest = latest_day_df.reset_index()\n",
    "latest.fillna(1, inplace=True)\n",
    "latest.to_csv('statewise_data_with_new_cases.csv')"
   ]
  },
  {
   "cell_type": "code",
   "execution_count": null,
   "metadata": {
    "_kg_hide-input": true
   },
   "outputs": [],
   "source": [
    "date_wise_data = covid_19_India[['State/UnionTerritory',\"Date\",\"Confirmed\",\"Deaths\",\"Cured\",'Active']]\n",
    "date_wise_data['Date'] = date_wise_data['Date'].apply(pd.to_datetime, dayfirst=True)\n",
    "date_wise_data = date_wise_data.groupby([\"Date\"]).sum().reset_index()\n",
    "def formatted_text(string):\n",
    "    display(Markdown(string))\n",
    "date_wise_data.to_csv('date_wise_data.csv')"
   ]
  },
  {
   "cell_type": "code",
   "execution_count": null,
   "metadata": {
    "_kg_hide-input": true
   },
   "outputs": [],
   "source": [
    "df_india[\"Lat\"] = \"\"\n",
    "df_india[\"Long\"] = \"\"\n",
    "for index in df_india.index :\n",
    "    df_india.loc[df_india.index == index,\"Lat\"] = locations[index][0]\n",
    "    df_india.loc[df_india.index == index,\"Long\"] = locations[index][1]"
   ]
  },
  {
   "cell_type": "code",
   "execution_count": null,
   "metadata": {
    "_kg_hide-input": true
   },
   "outputs": [],
   "source": [
    "test1[\"positive_ratio\"]= np.round(100*test1[\"totalPositiveCases\"]/test1[\"totalSamplesTested\"],2)\n",
    "test1[\"perday_positive\"] = test1[\"totalPositiveCases\"].diff()\n",
    "test1[\"perday_tests\"] = test1[\"totalSamplesTested\"].diff()\n",
    "test1[\"positive_ratio\"]= np.round(100*test1[\"perday_positive\"]/test1[\"perday_tests\"],2)\n",
    "test1.fillna(0)\n",
    "test1.drop(test1.head(1).index,axis = 0,inplace=True)\n",
    "test1.to_csv('ICMR_Testing_Data.csv')\n",
    "#test1.head()"
   ]
  },
  {
   "cell_type": "markdown",
   "metadata": {},
   "source": [
    "# **Overall view of the situation**"
   ]
  },
  {
   "cell_type": "code",
   "execution_count": null,
   "metadata": {
    "_kg_hide-input": true
   },
   "outputs": [],
   "source": [
    "fig = px.bar(symptoms[['symptom', 'percentage']].sort_values('percentage', ascending=False), \n",
    "             x=\"percentage\", y=\"symptom\", color='symptom',color_discrete_sequence = ex.colors.cyclical.IceFire\n",
    "              ,title='Symptom of Coronavirus',orientation='h')\n",
    "fig.update_layout(plot_bgcolor='rgb(275, 270, 273)')\n",
    "fig.update_traces(textposition='inside')\n",
    "fig.update_layout(uniformtext_minsize=8, uniformtext_mode='hide')\n",
    "fig.update_layout(barmode='stack')\n",
    "fig.update_layout(plot_bgcolor='rgb(275, 270, 273)',yaxis_title='Symptoms',xaxis_title='Percentages')\n",
    "fig.update_layout(template = 'plotly_white')\n",
    "fig.show()"
   ]
  },
  {
   "cell_type": "code",
   "execution_count": null,
   "metadata": {
    "_kg_hide-input": true
   },
   "outputs": [],
   "source": [
    "total_tested = test1[\"totalSamplesTested\"][-1:].values[0]\n",
    "total_positive = test1[\"totalPositiveCases\"][-1:].values[0]\n",
    "positivecase_ratio = total_positive * 100 / total_tested\n",
    "pcr = float(\"{:.2f}\".format(positivecase_ratio))\n",
    "test_million = np.round(1000000*test1['totalSamplesTested'][-1:].values[0]/1300000000,2)\n",
    "print('Total Number of people tested :', total_tested)\n",
    "print('Total Number of positive cases :',total_positive)\n",
    "print('Test Conducted per Million People :',test_million)\n",
    "print('Positive case per Tests [%]:',pcr)\n",
    "print('Total Recovered Cases :',data['Cured/Discharged/Migrated'].sum())\n",
    "print('Total Deaths :',data['Death'].sum())"
   ]
  },
  {
   "cell_type": "code",
   "execution_count": null,
   "metadata": {
    "_kg_hide-input": true
   },
   "outputs": [],
   "source": [
    "#testing = pd.read_csv('https://api.covid19india.org/csv/latest/tested_numbers_icmr_data.csv')\n",
    "#testing"
   ]
  },
  {
   "cell_type": "code",
   "execution_count": null,
   "metadata": {
    "_kg_hide-input": true
   },
   "outputs": [],
   "source": [
    "#Overall \n",
    "fig = go.Figure(data=[go.Pie(labels=['Total Samples Tested','Positive Cases from tested samples'],\n",
    "                            values= [total_tested,total_positive],hole =.3)])\n",
    "fig.update_traces(hoverinfo='label+percent', textinfo='value',textfont_size=20,\n",
    "                  marker=dict(colors=['#263fa3','#cc3c2f'], line=dict(color='#FFFFFF', width=2)))\n",
    "fig.update_layout(title_text='COVID19 Test Results from ICMR in india',plot_bgcolor='rgb(275, 270, 273)')\n",
    "fig.show()"
   ]
  },
  {
   "cell_type": "code",
   "execution_count": null,
   "metadata": {
    "_kg_hide-input": true
   },
   "outputs": [],
   "source": [
    "#Overall \n",
    "ac= data['Active cases'].sum()\n",
    "rvd = data['Cured/Discharged/Migrated'].sum()\n",
    "dth = data['Death'].sum()\n",
    "fig = go.Figure(data=[go.Pie(labels=['Active Cases','Cured','Death'],\n",
    "                             values= [ac,rvd,dth],hole =.3)])\n",
    "fig.update_traces(hoverinfo='label+percent', textinfo='value', textfont_size=20,\n",
    "                  marker=dict(colors=['#263fa3', '#2fcc41','#cc3c2f'], line=dict(color='#FFFFFF', width=2)))\n",
    "fig.update_layout(title_text='Current Situation in India according www.mohfw.gov.in',plot_bgcolor='rgb(275, 270, 273)')\n",
    "fig.show()"
   ]
  },
  {
   "cell_type": "code",
   "execution_count": null,
   "metadata": {
    "_kg_hide-input": true
   },
   "outputs": [],
   "source": [
    "Total_confirmed = df_india['active'].sum()\n",
    "Total_recovered =  df_india['recovered'].sum()\n",
    "Total_death = df_india['deaths'].sum()\n",
    "data12 = [['active', Total_confirmed], ['recovered', Total_recovered], ['deaths', Total_death]] \n",
    "df123 = pd.DataFrame(data12, columns = ['State / UT', 'count']) \n",
    "fig = px.pie(df123,\n",
    "             values= 'count',labels=['Active Cases','Cured','Death'],\n",
    "             names=\"State / UT\",\n",
    "             title=\"Current Situation in India according www.covid19india.org\",\n",
    "             template=\"seaborn\")\n",
    "fig.update_traces(hoverinfo='label+percent', textinfo='value', textfont_size=14,\n",
    "                  marker=dict(colors=['#263fa3', '#2fcc41','#cc3c2f'], line=dict(color='#FFFFFF', width=2)))\n",
    "fig.update_traces(textposition='inside')\n",
    "#fig.update_layout(uniformtext_minsize=12, uniformtext_mode='hide')\n",
    "fig.update_traces(rotation=90, pull=0.05, textinfo=\"percent+label\")\n",
    "fig.show()"
   ]
  },
  {
   "cell_type": "code",
   "execution_count": null,
   "metadata": {
    "_kg_hide-input": true,
    "_kg_hide-output": true
   },
   "outputs": [],
   "source": [
    "'''\n",
    "#Overall \n",
    "ac= df_india['active'].sum()\n",
    "rvd = df_india['recovered'].sum()\n",
    "dth = df_india['deaths'].sum()\n",
    "fig = go.Figure(data=[go.Pie(labels=['Active Cases','Cured','Death'],\n",
    "                             values= [ac,rvd,dth],hole =.3)])\n",
    "fig.update_traces(hoverinfo='label+percent', textinfo='value', textfont_size=20,\n",
    "                  marker=dict(colors=['#263fa3', '#2fcc41','#cc3c2f'], line=dict(color='#FFFFFF', width=2)))\n",
    "fig.update_layout(title_text='Current Situation in India according www.covid19india.org',plot_bgcolor='rgb(275, 270, 273)')\n",
    "fig.show()\n",
    "\n",
    "'''"
   ]
  },
  {
   "cell_type": "markdown",
   "metadata": {},
   "source": [
    "# Gender wise insights of COVID-19 cases in india"
   ]
  },
  {
   "cell_type": "code",
   "execution_count": null,
   "metadata": {
    "_kg_hide-input": true
   },
   "outputs": [],
   "source": [
    "tempa = p_df[['current_status','gender']].dropna()\n",
    "actv = tempa[tempa['current_status'] == 'Hospitalized']\n",
    "a_f = len(actv[actv['gender'] == 'F'])\n",
    "a_m = len(actv[actv['gender'] == 'M'])\n",
    "fig = go.Figure(data=[go.Pie(labels=['Male','Female'],\n",
    "                             values= [a_m,a_f],hole =.3)])\n",
    "fig.update_traces(hoverinfo='label+percent', textinfo='value', textfont_size=20,\n",
    "                  marker=dict(colors=['#263fa3', '#d461bf'], line=dict(color='#FFFFFF', width=2)))\n",
    "fig.update_layout(title_text='Gender wise Active Cases',plot_bgcolor='rgb(275, 270, 273)')\n",
    "fig.show()\n"
   ]
  },
  {
   "cell_type": "code",
   "execution_count": null,
   "metadata": {
    "_kg_hide-input": true
   },
   "outputs": [],
   "source": [
    "tempr = p_df[['current_status','gender']].dropna()\n",
    "rcvd = tempr[tempr['current_status'] == 'Recovered']\n",
    "r_f = len(rcvd[rcvd['gender'] == 'F'])\n",
    "r_m = len(rcvd[rcvd['gender'] == 'M'])\n",
    "fig = go.Figure(data=[go.Pie(labels=['Male','Female'],\n",
    "                             values= [r_m,r_f],hole =.3)])\n",
    "fig.update_traces(hoverinfo='label+percent', textinfo='value', textfont_size=20,\n",
    "                  marker=dict(colors=['#263fa3', '#d461bf'], line=dict(color='#FFFFFF', width=2)))\n",
    "fig.update_layout(title_text='Gender wise Recovered Cases(Numbers are inaccurate due to missing values)',\n",
    "plot_bgcolor='rgb(275, 270, 273)')\n",
    "fig.show()"
   ]
  },
  {
   "cell_type": "code",
   "execution_count": null,
   "metadata": {
    "_kg_hide-input": true
   },
   "outputs": [],
   "source": [
    "#option\n",
    "temp = p_df[['current_status','gender']].dropna()\n",
    "dd = temp[temp['current_status'] == 'Deceased']\n",
    "d_f = len(dd[dd['gender'] == 'F'])\n",
    "d_m = len(dd[dd['gender'] == 'M'])\n",
    "fig = go.Figure(data=[go.Pie(labels=['Male','Female'],\n",
    "                             values= [d_m,d_f],hole =.3)])\n",
    "fig.update_traces(hoverinfo='label+percent', textinfo='value', textfont_size=20,\n",
    "                  marker=dict(colors=['#263fa3','#d461bf'], line=dict(color='#FFFFFF', width=2)))\n",
    "fig.update_layout(title_text='Gender wise Deaths (Numbers are inaccurate due to missing values)',plot_bgcolor='rgb(275, 270, 273)')\n",
    "fig.show()"
   ]
  },
  {
   "cell_type": "code",
   "execution_count": null,
   "metadata": {
    "_kg_hide-input": true
   },
   "outputs": [],
   "source": [
    "temp = p_df[['status_change_date','age_bracket','current_status','gender','detected_state']].dropna()\n",
    "rec = temp[temp['current_status'] == 'Recovered'].drop('current_status',axis =1).sort_values('status_change_date',ascending=True)\n",
    "rec_x = rec['age_bracket'].astype(int)\n",
    "rec_y = rec['gender']\n",
    "fig = px.histogram(x=rec_x,color =rec_y,orientation = 'v',\n",
    "                   title='Age wise Recovered cases in Male and Female (Numbers are inaccurate due to missing values)')\n",
    "fig.update_layout(barmode='stack')\n",
    "fig.update_layout(plot_bgcolor='rgb(275, 270, 273)',yaxis_title='Deaths',xaxis_title='Age Group')\n",
    "fig.show()"
   ]
  },
  {
   "cell_type": "code",
   "execution_count": null,
   "metadata": {
    "_kg_hide-input": true
   },
   "outputs": [],
   "source": [
    "temp = p_df.copy()\n",
    "temp = p_df[['status_change_date','age_bracket','current_status','gender','detected_state']].dropna()\n",
    "dea = temp[temp['current_status'] == 'Deceased'].drop('current_status',axis =1).sort_values('status_change_date',ascending=True)\n",
    "xaxis = dea['age_bracket'].astype(int)\n",
    "yaxis = dea['gender']\n",
    "fig = px.histogram(x=xaxis,color =yaxis,orientation = 'v',\n",
    "                   title='Age wise Deaths in Male and Female (Numbers are inaccurate due to missing values)')\n",
    "fig.update_layout(barmode='stack')\n",
    "fig.update_layout(plot_bgcolor='rgb(275, 270, 273)',yaxis_title='Deaths',xaxis_title='Age Group')\n",
    "fig.show()"
   ]
  },
  {
   "cell_type": "markdown",
   "metadata": {},
   "source": [
    "# **Trend of COVID-19 cases in India**"
   ]
  },
  {
   "cell_type": "code",
   "execution_count": null,
   "metadata": {
    "_kg_hide-input": true
   },
   "outputs": [],
   "source": [
    "import plotly.express as px\n",
    "fig = px.bar(test1, x=\"day\", y=\"perday_tests\", barmode='group',height=500,color = \"perday_tests\",\n",
    "             orientation = 'v',\n",
    "            color_discrete_sequence = px.colors.sequential.Plasma_r)\n",
    "fig.update_layout(title_text='Number of COVID-19 test conducted everyday',plot_bgcolor='rgb(275, 270, 273)')\n",
    "fig.update_layout(barmode='stack')\n",
    "fig.update_layout(plot_bgcolor='rgb(275, 270, 273)',yaxis_title='Tests',xaxis_title='Date')\n",
    "fig.show()"
   ]
  },
  {
   "cell_type": "code",
   "execution_count": null,
   "metadata": {
    "_kg_hide-input": true
   },
   "outputs": [],
   "source": [
    "fig = go.Figure(data=[\n",
    "go.Bar(name='Tested', x=test1['day'], y=test1['perday_tests'],marker_color='#2fcc41'),\n",
    "go.Bar(name='Positive', x=test1['day'], y=test1['perday_positive'],marker_color='#FF0000')])\n",
    "fig.update_layout(barmode='stack',width=500, height=600)\n",
    "fig.update_traces(textposition='inside')\n",
    "fig.update_layout(uniformtext_minsize=8, uniformtext_mode='hide')\n",
    "fig.update_layout(title_text='Number of people tested and positive among them',\n",
    "                  plot_bgcolor='rgb(275, 270, 273)')\n",
    "fig.show()"
   ]
  },
  {
   "cell_type": "code",
   "execution_count": null,
   "metadata": {
    "_kg_hide-input": true
   },
   "outputs": [],
   "source": [
    "temp = date_wise_data.copy()\n",
    "fig = go.Figure(data=[\n",
    "go.Bar(name='Deaths', x=temp['Date'], y=temp['Deaths'],marker_color='#ff0000'),\n",
    "go.Bar(name='Recovered Cases', x=temp['Date'], y=temp['Cured'],marker_color='#2bad57'),\n",
    "go.Bar(name='Confirmed Cases', x=temp['Date'], y=temp['Confirmed'],marker_color='#326ac7')])\n",
    "fig.update_layout(barmode='stack')\n",
    "fig.update_traces(textposition='inside')\n",
    "fig.update_layout(uniformtext_minsize=8, uniformtext_mode='hide')\n",
    "fig.update_layout(title_text='COVID-19 Cases,Recovery and Deaths in India',\n",
    "                  plot_bgcolor='rgb(275, 270, 273)')\n",
    "fig.show()"
   ]
  },
  {
   "cell_type": "code",
   "execution_count": null,
   "metadata": {
    "_kg_hide-input": true
   },
   "outputs": [],
   "source": [
    "perday2 = date_wise_data.groupby(['Date'])['Confirmed','Cured','Deaths','Active'].sum().reset_index().sort_values('Date',ascending = True)\n",
    "perday2['New Daily Confirmed Cases'] = perday2['Confirmed'].sub(perday2['Confirmed'].shift())\n",
    "perday2['New Daily Confirmed Cases'].iloc[0] = perday2['Confirmed'].iloc[0]\n",
    "perday2['New Daily Confirmed Cases'] = perday2['New Daily Confirmed Cases'].astype(int)\n",
    "perday2['New Daily Cured Cases'] = perday2['Cured'].sub(perday2['Cured'].shift())\n",
    "perday2['New Daily Cured Cases'].iloc[0] = perday2['Cured'].iloc[0]\n",
    "perday2['New Daily Cured Cases'] = perday2['New Daily Cured Cases'].astype(int)\n",
    "perday2['New Daily Deaths Cases'] = perday2['Deaths'].sub(perday2['Deaths'].shift())\n",
    "perday2['New Daily Deaths Cases'].iloc[0] = perday2['Deaths'].iloc[0]\n",
    "perday2['New Daily Deaths Cases'] = perday2['New Daily Deaths Cases'].astype(int)\n",
    "perday2.to_csv('perday_daily_cases.csv')"
   ]
  },
  {
   "cell_type": "code",
   "execution_count": null,
   "metadata": {
    "_kg_hide-input": true
   },
   "outputs": [],
   "source": [
    "# New COVID-19 cases reported daily in India\n",
    "import plotly.express as px\n",
    "fig = px.bar(perday2, x=\"Date\", y=\"New Daily Confirmed Cases\", barmode='group',height=500)\n",
    "fig.update_layout(title_text='New COVID-19 cases reported daily in India',plot_bgcolor='rgb(275, 270, 273)')\n",
    "fig.show()"
   ]
  },
  {
   "cell_type": "code",
   "execution_count": null,
   "metadata": {
    "_kg_hide-input": true
   },
   "outputs": [],
   "source": [
    "# New COVID-19 cured cases reported daily in India\n",
    "import plotly.express as px\n",
    "fig = px.bar(perday2, x=\"Date\", y=\"New Daily Cured Cases\", barmode='group',height=500,\n",
    "            color_discrete_sequence = ['#319146'])\n",
    "fig.update_layout(title_text='New COVID-19 Recovered cases reported daily in India',plot_bgcolor='rgb(275, 270, 273)')\n",
    "fig.show()"
   ]
  },
  {
   "cell_type": "code",
   "execution_count": null,
   "metadata": {
    "_kg_hide-input": true
   },
   "outputs": [],
   "source": [
    "import plotly.express as px\n",
    "fig = px.bar(perday2, x=\"Date\", y=\"New Daily Deaths Cases\", barmode='group',height=500,\n",
    "             color_discrete_sequence = ['#e31010'])\n",
    "fig.update_layout(title_text='New COVID-19 Deaths reported daily in India',plot_bgcolor='rgb(275, 270, 273)')\n",
    "fig.show()"
   ]
  },
  {
   "cell_type": "code",
   "execution_count": null,
   "metadata": {
    "_kg_hide-input": true
   },
   "outputs": [],
   "source": [
    "temp = date_wise_data.copy()\n",
    "temp = date_wise_data.groupby('Date')['Confirmed', 'Deaths', 'Cured'].sum().reset_index()\n",
    "fig = px.scatter(temp, x=\"Date\", y=\"Confirmed\", color=\"Confirmed\",\n",
    "                 size='Confirmed', hover_data=['Confirmed'],\n",
    "                 color_discrete_sequence = ex.colors.cyclical.IceFire)\n",
    "fig.update_layout(title_text='Trend of Daily Coronavirus Cases in India',\n",
    "                  plot_bgcolor='rgb(275, 270, 273)',width=600, height=600)\n",
    "fig.show()"
   ]
  },
  {
   "cell_type": "code",
   "execution_count": null,
   "metadata": {
    "_kg_hide-input": true
   },
   "outputs": [],
   "source": [
    "'''\n",
    "def to_log(x):\n",
    "    return np.log(x + 1)\n",
    "\n",
    "'''"
   ]
  },
  {
   "cell_type": "code",
   "execution_count": null,
   "metadata": {
    "_kg_hide-input": true
   },
   "outputs": [],
   "source": [
    "fig = px.line(date_wise_data, x=\"Date\", y=\"Confirmed\", \n",
    "              title=\"Confirmed Cases (Logarithmic Scale) Over Time in India\", \n",
    "              log_y=True,template='gridon',width=600, height=600)\n",
    "fig.show()"
   ]
  },
  {
   "cell_type": "code",
   "execution_count": null,
   "metadata": {
    "_kg_hide-input": true
   },
   "outputs": [],
   "source": [
    "fig = go.Figure()\n",
    "fig.add_trace(go.Scatter(x=date_wise_data['Date'], y=date_wise_data['Confirmed'],\n",
    "                    mode='lines+markers',marker_color='blue',name='Confimned Cases'))\n",
    "fig.add_trace(go.Scatter(x=date_wise_data['Date'],y=date_wise_data['Active'], \n",
    "                mode='lines+markers',marker_color='purple',name='Active Cases'))\n",
    "fig.add_trace(go.Scatter(x=date_wise_data['Date'], y=date_wise_data['Cured'],\n",
    "                mode='lines+markers',marker_color='green',name='Recovered'))\n",
    "fig.add_trace(go.Scatter(x=date_wise_data['Date'], y=date_wise_data['Deaths'], \n",
    "                mode='lines+markers',marker_color='red',name='Deaths'))\n",
    "fig.update_layout(title_text = '<b>Spread of the Coronavirus Over Time in India </b>',plot_bgcolor='rgb(275, 270, 273)',width=600, height=600)\n",
    "fig.show()"
   ]
  },
  {
   "cell_type": "code",
   "execution_count": null,
   "metadata": {
    "_kg_hide-input": true
   },
   "outputs": [],
   "source": [
    "cnf = '#263fa3' # confirmed - blue\n",
    "act = '#fe9801' # active case - yellow\n",
    "rec = '#21bf73' # recovered - green\n",
    "dth = '#de260d' # death - red\n",
    "tmp = date_wise_data.melt(id_vars=\"Date\",value_vars=['Deaths','Cured' ,'Active','Confirmed'],\n",
    "                 var_name='Case',value_name='Count')\n",
    "fig = px.area(tmp, x=\"Date\", y=\"Count\",color='Case',\n",
    "              title='Trend of Covid-10 in India over time: Area Plot',color_discrete_sequence = [dth,rec,act,cnf])\n",
    "fig.update_layout(plot_bgcolor='rgb(275, 270, 273)',width=550, height=600)\n",
    "fig.show()"
   ]
  },
  {
   "cell_type": "code",
   "execution_count": null,
   "metadata": {
    "_kg_hide-input": true
   },
   "outputs": [],
   "source": [
    "df_india_data = df[['Date', 'State/UT','Confirmed','Cured','Deaths','Active']]\n",
    "spread = df_india_data.groupby(['Date', 'State/UT'])['Confirmed'].sum().reset_index().sort_values('Confirmed', ascending=True)\n",
    "fig = px.area(spread, x=\"Date\", y=\"Confirmed\",color='State/UT',title='State Wise Spread over time',height=500,\n",
    "              color_discrete_sequence = ex.colors.cyclical.Edge)\n",
    "fig.update_layout(plot_bgcolor='rgb(275, 270, 273)',width=700, height=600)"
   ]
  },
  {
   "cell_type": "code",
   "execution_count": null,
   "metadata": {
    "_kg_hide-input": true
   },
   "outputs": [],
   "source": [
    "fig = go.Figure()\n",
    "fig.add_trace(go.Scatter(x=test1['day'], y=test1['positive_ratio'],\n",
    "                    mode='lines+markers',marker_color='blue'))\n",
    "fig.update_layout(title_text = 'Trend of Positive case ratio from tested people of India')\n",
    "fig.update_layout(plot_bgcolor='rgb(275, 270, 273)',width=600, height=600)\n",
    "fig.show()"
   ]
  },
  {
   "cell_type": "code",
   "execution_count": null,
   "metadata": {
    "_kg_hide-input": true
   },
   "outputs": [],
   "source": [
    "temp = date_wise_data.copy()\n",
    "temp['Recovery Rate'] = temp['Cured']/temp['Confirmed']*100\n",
    "fig = go.Figure()\n",
    "fig.add_trace(go.Scatter(x=temp['Date'], y=temp['Recovery Rate'],\n",
    "                    mode='lines+markers',marker_color='green'))\n",
    "fig.update_layout(title_text = 'Trend of Recovery Rate of India')\n",
    "fig.update_layout(plot_bgcolor='rgb(275, 270, 273)',width=600, height=600)\n",
    "fig.show()"
   ]
  },
  {
   "cell_type": "code",
   "execution_count": null,
   "metadata": {
    "_kg_hide-input": true
   },
   "outputs": [],
   "source": [
    "temp = date_wise_data.copy()\n",
    "temp['Mortality Rate'] = temp['Deaths']/temp['Confirmed']*100\n",
    "fig = go.Figure()\n",
    "fig.add_trace(go.Scatter(x=temp['Date'], y=temp['Mortality Rate'],mode='lines+markers',marker_color='red'))\n",
    "fig.update_layout(title_text = 'Trend of Mortality Rate of India')\n",
    "fig.update_layout(plot_bgcolor='rgb(275, 270, 273)',width=600, height=600)\n",
    "fig.show()"
   ]
  },
  {
   "cell_type": "code",
   "execution_count": null,
   "metadata": {
    "_kg_hide-input": true
   },
   "outputs": [],
   "source": [
    "agegroup = pd.read_csv('../input/covid19-in-india/AgeGroupDetails.csv')\n",
    "fig = go.Figure()\n",
    "fig.add_trace(go.Scatter(x=agegroup['AgeGroup'],y=agegroup['TotalCases'],line_shape='spline',fill='tonexty',fillcolor = 'orange')) \n",
    "fig.update_layout(title=\"Age wise Confirmed Case Trend in India\",yaxis_title=\"Total Number of cases\",xaxis_title=\"Age Group\")\n",
    "fig.update_layout(plot_bgcolor='rgb(275, 270, 273)',width=600,height=600)\n",
    "fig.show()"
   ]
  },
  {
   "cell_type": "markdown",
   "metadata": {},
   "source": [
    "# **Covid-19 State Wise insight**"
   ]
  },
  {
   "cell_type": "code",
   "execution_count": null,
   "metadata": {
    "_kg_hide-input": true
   },
   "outputs": [],
   "source": [
    "temp = latest.copy()\n",
    "temp= latest[latest['New cases'] > 0]\n",
    "temp = temp.sort_values('New cases', ascending=False)\n",
    "state_order = temp['State/UT']\n",
    "fig = px.bar(temp,x=\"New cases\", y=\"State/UT\", color='State/UT', \n",
    "             title='State Wise New cases in Last 24hrs', orientation='h', text='New cases', \n",
    "             height=600)\n",
    "fig.update_layout(plot_bgcolor='rgb(275, 270, 273)')\n",
    "#fig.update_layout(template = 'plotly_white')\n",
    "fig.show()"
   ]
  },
  {
   "cell_type": "code",
   "execution_count": null,
   "metadata": {
    "_kg_hide-input": true
   },
   "outputs": [],
   "source": [
    "temp = data.sort_values('Total cases', ascending=True)\n",
    "fig = go.Figure(data=[\n",
    "go.Bar(name='Active', y=temp['Name of State / UT'], x=temp['Active cases'], \n",
    "       orientation='h',marker_color='#0f5dbd'),\n",
    "    go.Bar(name='Cured', y=temp['Name of State / UT'], x=temp['Cured/Discharged/Migrated'], \n",
    "       orientation='h',marker_color='#319146'),\n",
    "go.Bar(name='Death', y=temp['Name of State / UT'], x=temp['Death'], \n",
    "       orientation='h',marker_color='#e03216')])\n",
    "fig.update_layout(barmode='stack',width=600, height=800)\n",
    "#fig.update_traces(textposition='inside')\n",
    "fig.update_layout(uniformtext_minsize=8, uniformtext_mode='hide')\n",
    "fig.update_layout(title_text='Active Cases,Cured,Deaths in Different States of India',\n",
    "                  plot_bgcolor='rgb(275, 270, 273)')\n",
    "fig.show()"
   ]
  },
  {
   "cell_type": "code",
   "execution_count": null,
   "metadata": {
    "_kg_hide-input": true,
    "_kg_hide-output": true
   },
   "outputs": [],
   "source": [
    "#colors \n",
    "'''\n",
    "color_discrete_sequence = px.colors.sequential.Plasma_r,template = 'plotly_white',\n",
    "ex.colors.cyclical.IceFire, ex.colors.cyclical.Edge'\n",
    "'''"
   ]
  },
  {
   "cell_type": "code",
   "execution_count": null,
   "metadata": {
    "_kg_hide-input": true
   },
   "outputs": [],
   "source": [
    "temp = data.copy()\n",
    "temp = data.sort_values('Total cases', ascending=False)\n",
    "state_order = temp['Name of State / UT']\n",
    "fig = px.bar(temp,x=\"Total cases\", y=\"Name of State / UT\", color='Name of State / UT', \n",
    "             title='State Wise Confirmed Cases', orientation='h', text='Total cases', \n",
    "             height=900,color_discrete_sequence = ex.colors.cyclical.IceFire)\n",
    "fig.update_layout(plot_bgcolor='rgb(275, 270, 273)')\n",
    "#fig.update_layout(template = 'plotly_white')\n",
    "fig.show()"
   ]
  },
  {
   "cell_type": "code",
   "execution_count": null,
   "metadata": {
    "_kg_hide-input": true
   },
   "outputs": [],
   "source": [
    "temp = data.copy()\n",
    "temp = data[data['Cured/Discharged/Migrated']>0].sort_values('Cured/Discharged/Migrated',ascending=False)\n",
    "state_order = temp['Name of State / UT']\n",
    "fig = px.bar(temp,x=\"Cured/Discharged/Migrated\", y=\"Name of State / UT\", color='Name of State / UT',\n",
    "             title='State wise Cured/Discharged/Migrated cases', orientation='h', \n",
    "             text='Cured/Discharged/Migrated', \n",
    "             height=700,color_discrete_sequence = ex.colors.cyclical.Phase)\n",
    "fig.update_layout(plot_bgcolor='rgb(275, 270, 273)')\n",
    "#fig.update_layout(template = 'plotly_white')\n",
    "fig.show()"
   ]
  },
  {
   "cell_type": "code",
   "execution_count": null,
   "metadata": {
    "_kg_hide-input": true
   },
   "outputs": [],
   "source": [
    "temp = data.copy()\n",
    "temp['Recovery Rate'] = round((temp['Cured/Discharged/Migrated']/temp['Total cases'])*100, 2)\n",
    "temp = temp[temp['Total cases']>100]\n",
    "temp = temp.sort_values('Recovery Rate', ascending=False)\n",
    "fig = px.bar(temp.sort_values(by=\"Recovery Rate\", ascending=False)[:30][::-1],\n",
    "             x = 'Recovery Rate', y = 'Name of State / UT', \n",
    "             title='Recoveries per 100 Confirmed Cases', text='Recovery Rate', height=600, orientation='h',\n",
    "             color_discrete_sequence=['#2ca02c'])   \n",
    "fig.update_layout(plot_bgcolor='rgb(275, 270, 273)')\n",
    "fig.show()"
   ]
  },
  {
   "cell_type": "code",
   "execution_count": null,
   "metadata": {
    "_kg_hide-input": true
   },
   "outputs": [],
   "source": [
    "temp = data.copy()\n",
    "temp = data[data['Death']>0].sort_values('Death',ascending=False)\n",
    "state_order = temp['Name of State / UT']\n",
    "fig = px.bar(temp,x=\"Death\", y=\"Name of State / UT\", color='Name of State / UT',\n",
    "             title='State wise Deaths', orientation='h', \n",
    "             text='Death', \n",
    "             height=600,color_discrete_sequence = px.colors.sequential.Plasma_r)\n",
    "fig.update_layout(plot_bgcolor='rgb(275, 270, 273)')\n",
    "#fig.update_layout(template = 'plotly_white')\n",
    "fig.show()"
   ]
  },
  {
   "cell_type": "code",
   "execution_count": null,
   "metadata": {
    "_kg_hide-input": true
   },
   "outputs": [],
   "source": [
    "temp = data.copy()\n",
    "temp['Mortality Rate'] = round((temp['Death']/temp['Total cases'])*100, 2)\n",
    "temp = temp[temp['Total cases']>100]\n",
    "temp = temp.sort_values('Mortality Rate', ascending=False)\n",
    "fig = px.bar(temp.sort_values(by=\"Mortality Rate\", ascending=False)[:30][::-1],\n",
    "             x = 'Mortality Rate', y = 'Name of State / UT', \n",
    "             title='Mortality Rate per 100 Confirmed Cases', text='Mortality Rate', height=600, orientation='h',\n",
    "             color_discrete_sequence=['darkred'])   \n",
    "fig.update_layout(plot_bgcolor='rgb(275, 270, 273)')\n",
    "fig.show()"
   ]
  },
  {
   "cell_type": "markdown",
   "metadata": {},
   "source": [
    "# Demographics Visualisation"
   ]
  },
  {
   "cell_type": "code",
   "execution_count": null,
   "metadata": {
    "_kg_hide-input": true
   },
   "outputs": [],
   "source": [
    "# tiles='cartodbpositron'\n",
    "\n",
    "india = folium.Map(location=[20.5937, 78.9629], zoom_start=14,max_zoom=4,min_zoom=3, \n",
    "                   tiles = \"CartoDB dark_matter\",detect_retina = True,height = 600,width = '70%')\n",
    "for i in range(0,len(df_india[df_india['confirmed']>0].index)):\n",
    "    folium.Circle(\n",
    "        location=[df_india.iloc[i]['Lat'], df_india.iloc[i]['Long']],\n",
    "        tooltip = \"<h5 style='text-align:center;font-weight: bold'>\"+df_india.iloc[i].name+\"</h5>\"+\n",
    "                    \"<hr style='margin:10px;'>\"+\n",
    "                    \"<ul style='color: #444;list-style-type:circle;align-item:left;padding-left:20px;padding-right:20px'>\"+\n",
    "        \"<li>Confirmed: \"+str(df_india.iloc[i]['confirmed'])+\"</li>\"+\n",
    "        \"<li>Active:   \"+str(df_india.iloc[i]['active'])+\"</li>\"+\n",
    "        \"<li>Recovered:   \"+str(df_india.iloc[i]['recovered'])+\"</li>\"+\n",
    "        \"<li>Deaths:   \"+str(df_india.iloc[i]['deaths'])+\"</li>\"+\n",
    "        \"<li>Mortality Rate:   \"+str(np.round(df_india.iloc[i]['deaths']/(df_india.iloc[i]['confirmed']+1)*100,2))+\"</li>\"+\n",
    "        \"</ul>\",\n",
    "        radius=(int(np.log2(df_india.iloc[i]['confirmed']+1)))*9000,\n",
    "        color='red',\n",
    "        fill_color='green',\n",
    "        fill=True).add_to(india)\n",
    "india\n"
   ]
  },
  {
   "cell_type": "markdown",
   "metadata": {},
   "source": [
    "**Analyse Affected area through Heatmap**"
   ]
  },
  {
   "cell_type": "code",
   "execution_count": null,
   "metadata": {
    "_kg_hide-input": true
   },
   "outputs": [],
   "source": [
    "from folium.plugins import HeatMap, HeatMapWithTime\n",
    "affected_area = folium.Map(location=[20.5937, 78.9629], zoom_start=14,max_zoom=4,min_zoom=3,\n",
    "                          tiles='cartodbpositron',height = 500,width = '70%')\n",
    "HeatMap(data=df_india[['Lat','Long','confirmed']].groupby(['Lat','Long']).sum().reset_index().values.tolist(),\n",
    "        radius=18, max_zoom=14).add_to(affected_area)\n",
    "affected_area"
   ]
  },
  {
   "cell_type": "markdown",
   "metadata": {},
   "source": [
    "**COVID-19 Cases thtough time in different parts of india**"
   ]
  },
  {
   "cell_type": "code",
   "execution_count": null,
   "metadata": {
    "_kg_hide-input": true
   },
   "outputs": [],
   "source": [
    "from plotly.offline import init_notebook_mode\n",
    "import plotly.graph_objs as go\n",
    "init_notebook_mode(connected=True)\n",
    "tmp = df.copy()\n",
    "tmp['Date'] = tmp['Date'].dt.strftime('%Y/%m/%d')\n",
    "fig = px.scatter_geo(tmp,lat=\"Latitude\", lon=\"Longitude\", color='Confirmed', size='Confirmed', \n",
    "                     projection=\"natural earth\",\n",
    "                     hover_name=\"State/UT\", scope='asia', animation_frame=\"Date\",\n",
    "                     color_continuous_scale=px.colors.diverging.curl,center={'lat':20, 'lon':78}, \n",
    "                     range_color=[0, max(tmp['Confirmed'])])\n",
    "fig.update_layout(plot_bgcolor='rgb(275, 270, 273)')\n",
    "fig.show()\n",
    "tmp.to_csv('covid_19_india.csv')"
   ]
  },
  {
   "cell_type": "markdown",
   "metadata": {},
   "source": [
    "# Enter you PINCODE and Find the nearest corona positive location and the number of cases with risk factor (low, moderate, high)"
   ]
  },
  {
   "cell_type": "code",
   "execution_count": null,
   "metadata": {
    "_kg_hide-input": true,
    "_kg_hide-output": true
   },
   "outputs": [],
   "source": [
    "''''\n",
    "print('Enter your Indian Pincode number to Find the nearest corona positive location and the number of cases with risk factor (low, moderate, high)')\n",
    "query_pincode = input(\"Enter you PINCODE to know status  : \") \n",
    "g = int(query_pincode)\n",
    "\n",
    "if g in city_wise_coordinates.PIN.values:\n",
    "    query_info= city_wise_coordinates[city_wise_coordinates.PIN == int(g)]\n",
    "    get_nearest_covid19_stats(query_info,corona_db_with_latlng)\n",
    "else:\n",
    "    print('You entered an Invalid PIN')\n",
    "\n",
    "'''\n"
   ]
  },
  {
   "cell_type": "markdown",
   "metadata": {},
   "source": [
    "# Fit a logistic curve\n",
    "\n",
    "Let's try to fit a Logistic curve for predicting future behavior of the cumulative number of confirmed cases.\n",
    "\n",
    "* L (the maximum number of confirmed cases) = 250000 taken from the US example (this is from long time obsolete now)\n",
    "* k (growth rate) = 0.25 approximated value from most of the countries\n",
    "* x0 (the day of the inflexion) = 80 approximated\n",
    "The curve being:\n",
    "\n",
    "$$y = \\frac{L}{1 + e^{-k (x-x_0)}} + 1$$"
   ]
  },
  {
   "cell_type": "code",
   "execution_count": null,
   "metadata": {
    "_kg_hide-input": true
   },
   "outputs": [],
   "source": [
    "import scipy\n",
    "def logistic(x, L, k, x0):\n",
    "    return L / (1 + np.exp(-k * (x - x0))) + 1\n",
    "d_df = date_wise_data.copy()\n",
    "p0 = (0,0,0)\n",
    "def plot_logistic_fit_data(d_df, title, p0=p0):\n",
    "    d_df = d_df.sort_values(by=['Date'], ascending=True)\n",
    "    d_df['x'] = np.arange(len(d_df)) + 1\n",
    "    d_df['y'] = d_df['Confirmed']\n",
    "\n",
    "    x = d_df['x']\n",
    "    y = d_df['y']\n",
    "\n",
    "    c2 = scipy.optimize.curve_fit(logistic,  x,  y,  p0=p0 )\n",
    "    #y = logistic(x, L, k, x0)\n",
    "    popt, pcov = c2\n",
    "\n",
    "    x = range(1,d_df.shape[0] + int(popt[2]))\n",
    "    y_fit = logistic(x, *popt)\n",
    "    \n",
    "    p_df = pd.DataFrame()\n",
    "    p_df['x'] = x\n",
    "    p_df['y'] = y_fit.astype(int)\n",
    "    \n",
    "    print(\"Predicted L (the maximum number of confirmed cases): \" + str(int(popt[0])))\n",
    "    print(\"Predicted k (growth rate): \" + str(float(popt[1])))\n",
    "    print(\"Predicted x0 (the day of the inflexion): \" + str(int(popt[2])) + \"\")\n",
    "\n",
    "    x0 = int(popt[2])\n",
    "    \n",
    "    traceC = go.Scatter(\n",
    "        x=d_df['x'], y=d_df['y'],\n",
    "        name=\"Confirmed\",\n",
    "        marker=dict(color=\"Red\"),\n",
    "        mode = \"markers+lines\",\n",
    "        text=d_df['Confirmed'],\n",
    "    )\n",
    "\n",
    "    traceP = go.Scatter(\n",
    "        x=p_df['x'], y=p_df['y'],\n",
    "        name=\"Predicted\",\n",
    "        marker=dict(color=\"blue\"),\n",
    "        mode = \"lines\",\n",
    "        text=p_df['y'],\n",
    "    )\n",
    "    \n",
    "    trace_x0 = go.Scatter(\n",
    "        x = [x0, x0], y = [0, p_df.loc[p_df['x']==x0,'y'].values[0]],\n",
    "        name = \"X0 - Inflexion point\",\n",
    "        marker=dict(color=\"black\"),\n",
    "        mode = \"lines\",\n",
    "        text = \"X0 - Inflexion point\"\n",
    "    )\n",
    "\n",
    "    data = [traceC, traceP, trace_x0]\n",
    "\n",
    "    layout = dict(title = 'Cumulative Conformed cases and logistic curve projection',\n",
    "          xaxis = dict(title = 'Day since first case', showticklabels=True), \n",
    "          yaxis = dict(title = 'Number of cases'),\n",
    "          hovermode = 'closest',plot_bgcolor='rgb(275, 270, 273)'\n",
    "         )\n",
    "    fig = dict(data=data, layout=layout)\n",
    "    iplot(fig, filename='covid-logistic-forecast')\n",
    "    \n",
    "L = 250000\n",
    "k = 0.25\n",
    "x0 = 100\n",
    "p0 = (L, k, x0)\n",
    "plot_logistic_fit_data(d_df, 'India')"
   ]
  },
  {
   "cell_type": "markdown",
   "metadata": {},
   "source": [
    "## Fitting an exponential curve\n",
    "\n",
    "The parameters for the curve are:\n",
    "* A - the constant multiplier for the exponential\n",
    "* B - the multiplier for the exponent\n",
    "\n",
    "The curve is thus:\n",
    "$$y = Ae^{Bx}$$"
   ]
  },
  {
   "cell_type": "code",
   "execution_count": null,
   "metadata": {
    "_kg_hide-input": true
   },
   "outputs": [],
   "source": [
    "import datetime\n",
    "import scipy\n",
    "p0 = (0,0)\n",
    "def plot_exponential_fit_data(d_df, title, delta, p0):\n",
    "    d_df = d_df.sort_values(by=['Date'], ascending=True)\n",
    "    d_df['x'] = np.arange(len(d_df)) + 1\n",
    "    d_df['y'] = d_df['Confirmed']\n",
    "\n",
    "    x = d_df['x'][:-delta]\n",
    "    y = d_df['y'][:-delta]\n",
    "\n",
    "    c2 = scipy.optimize.curve_fit(lambda t,a,b: a*np.exp(b*t),  x,  y,  p0=p0)\n",
    "\n",
    "    A, B = c2[0]\n",
    "    print(f'(y = Ae^(Bx)) A: {A}, B: {B}')\n",
    "    x = range(1,d_df.shape[0] + 1)\n",
    "    y_fit = A * np.exp(B * x)\n",
    "    \n",
    "    traceC = go.Scatter(\n",
    "        x=d_df['x'][:-delta], y=d_df['y'][:-delta],\n",
    "        name=\"Confirmed (included for fit)\",\n",
    "        marker=dict(color=\"Red\"),\n",
    "        mode = \"markers+lines\",\n",
    "        text=d_df['Confirmed'],\n",
    "    )\n",
    "\n",
    "    traceV = go.Scatter(\n",
    "        x=d_df['x'][-delta-1:], y=d_df['y'][-delta-1:],\n",
    "        name=\"Confirmed (validation)\",\n",
    "        marker=dict(color=\"blue\"),\n",
    "        mode = \"markers+lines\",\n",
    "        text=d_df['Confirmed'],\n",
    "    )\n",
    "    \n",
    "    traceP = go.Scatter(\n",
    "        x=np.array(x), y=y_fit,\n",
    "        name=\"Projected values (fit curve)\",\n",
    "        marker=dict(color=\"green\"),\n",
    "        mode = \"lines\",\n",
    "        text=y_fit,\n",
    "    )\n",
    "\n",
    "    data = [traceC, traceV, traceP]\n",
    "\n",
    "    layout = dict(title = 'Cumulative Conformed cases and exponential curve projection',\n",
    "          xaxis = dict(title = 'Day since first case', showticklabels=True), \n",
    "          yaxis = dict(title = 'Number of cases'),plot_bgcolor='rgb(275, 270, 273)',\n",
    "          hovermode = 'closest'\n",
    "         )\n",
    "    fig = dict(data=data, layout=layout)\n",
    "    iplot(fig, filename='covid-exponential-forecast')\n",
    "p0 = (40, 0.2)\n",
    "plot_exponential_fit_data(d_df, 'I', 7, p0)"
   ]
  },
  {
   "cell_type": "markdown",
   "metadata": {},
   "source": [
    "## Forecasting with Prophet (Baseline)\n",
    "\n",
    "Perfoming two week's ahead forecast with Prophet, with prediction intervals."
   ]
  },
  {
   "cell_type": "markdown",
   "metadata": {},
   "source": [
    "**Forecasting Confirmed cases with Prophet (Baseline)\n",
    "**"
   ]
  },
  {
   "cell_type": "code",
   "execution_count": null,
   "metadata": {
    "_kg_hide-input": true
   },
   "outputs": [],
   "source": [
    "cnf = date_wise_data.copy()\n",
    "Confirmed = cnf[['Date','Confirmed']]\n",
    "Confirmed = df.groupby('Date').sum()['Confirmed'].reset_index()\n",
    "Confirmed.columns = ['ds','y']\n",
    "Confirmed['ds'] = pd.to_datetime(Confirmed['ds'])\n",
    "dth = date_wise_data.copy()\n",
    "deaths = dth[['Date','Deaths']]\n",
    "deaths = df.groupby('Date').sum()['Deaths'].reset_index()\n",
    "deaths.columns = ['ds','y']\n",
    "deaths['ds'] = pd.to_datetime(deaths['ds'])"
   ]
  },
  {
   "cell_type": "code",
   "execution_count": null,
   "metadata": {
    "_kg_hide-input": true
   },
   "outputs": [],
   "source": [
    "from fbprophet import Prophet\n",
    "from fbprophet.plot import plot_plotly"
   ]
  },
  {
   "cell_type": "code",
   "execution_count": null,
   "metadata": {
    "_kg_hide-input": true
   },
   "outputs": [],
   "source": [
    "m= Prophet(interval_width=0.99)\n",
    "m.fit(Confirmed)\n",
    "future = m.make_future_dataframe(periods=14)\n",
    "future_confirmed = future.copy() # for non-baseline predictions later on\n",
    "forecast = m.predict(future)\n",
    "forecast = forecast[['ds', 'yhat', 'yhat_lower', 'yhat_upper']]"
   ]
  },
  {
   "cell_type": "code",
   "execution_count": null,
   "metadata": {
    "_kg_hide-input": false
   },
   "outputs": [],
   "source": [
    "fig = plot_plotly(m, forecast)\n",
    "fig.update_layout(title_text = 'Confirmed cases Prediction using prophet')\n",
    "fig.update_layout(plot_bgcolor='rgb(275, 270, 273)',width=600, height=600)\n",
    "py.iplot(fig) "
   ]
  },
  {
   "cell_type": "code",
   "execution_count": null,
   "metadata": {
    "_kg_hide-input": true
   },
   "outputs": [],
   "source": [
    "fig = go.Figure()\n",
    "fig.add_trace(go.Scatter(x=date_wise_data['Date'], y=date_wise_data['Confirmed'],\n",
    "                    mode='lines+markers',marker_color='blue',name='Actual'))\n",
    "fig.add_trace(go.Scatter(x=forecast['ds'], y=forecast['yhat_upper'],\n",
    "                    mode='lines+markers',marker_color='Orange',name='Predicted'))\n",
    "fig.update_layout(title_text = 'Confirmed cases Predicted vs Actual using prophet')\n",
    "fig.update_layout(plot_bgcolor='rgb(275, 270, 273)',width=600, height=600)\n",
    "fig.show()"
   ]
  },
  {
   "cell_type": "markdown",
   "metadata": {},
   "source": [
    "**Forecasting Deaths with Prophet (Baseline)\n",
    "**"
   ]
  },
  {
   "cell_type": "code",
   "execution_count": null,
   "metadata": {
    "_kg_hide-input": true
   },
   "outputs": [],
   "source": [
    "md= Prophet(interval_width=0.99)\n",
    "md.fit(deaths)\n",
    "futured = md.make_future_dataframe(periods=14)\n",
    "future_confirmed = futured.copy()\n",
    "forecastd = md.predict(futured)\n",
    "forecastd = forecastd[['ds', 'yhat', 'yhat_lower', 'yhat_upper']]"
   ]
  },
  {
   "cell_type": "code",
   "execution_count": null,
   "metadata": {},
   "outputs": [],
   "source": [
    "fig = plot_plotly(md, forecastd)\n",
    "fig.update_layout(title_text = 'Deaths Prediction using prophet')\n",
    "fig.update_layout(plot_bgcolor='rgb(275, 270, 273)',width=600, height=600)\n",
    "py.iplot(fig) "
   ]
  },
  {
   "cell_type": "code",
   "execution_count": null,
   "metadata": {
    "_kg_hide-input": true
   },
   "outputs": [],
   "source": [
    "fig = go.Figure()\n",
    "fig.add_trace(go.Scatter(x=date_wise_data['Date'], y=date_wise_data['Deaths'],\n",
    "                    mode='lines+markers',marker_color='blue',name='Actual'))\n",
    "fig.add_trace(go.Scatter(x=forecastd['ds'], y=forecastd['yhat_upper'],\n",
    "                    mode='lines+markers',marker_color='red',name='Predicted'))\n",
    "fig.update_layout(title_text = 'Deaths Predicted vs Actual using prophet')\n",
    "fig.update_layout(plot_bgcolor='rgb(275, 270, 273)',width=600, height=600)\n",
    "fig.show()"
   ]
  },
  {
   "cell_type": "markdown",
   "metadata": {},
   "source": [
    "# Together We can do this.\n",
    "\n",
    "![](https://thespinoff.co.nz/wp-content/uploads/2020/03/Covid-19-curves-graphic-social-v3.gif)"
   ]
  },
  {
   "cell_type": "markdown",
   "metadata": {},
   "source": [
    "**Note: This work is highly inspired from few other kaggle kernels , github sources and other data science resources. Any traces of replications, which may appear , is purely co-incidental. Due respect & credit to all my fellow kagglers.**\n",
    "\n",
    "prediction code courtesy : [Gabriel Preda](https://www.kaggle.com/gpreda/sars-ncov-2-in-romania)"
   ]
  }
 ],
 "metadata": {
  "kernelspec": {
   "display_name": "Python 3",
   "language": "python",
   "name": "python3"
  },
  "language_info": {
   "codemirror_mode": {
    "name": "ipython",
    "version": 3
   },
   "file_extension": ".py",
   "mimetype": "text/x-python",
   "name": "python",
   "nbconvert_exporter": "python",
   "pygments_lexer": "ipython3",
   "version": "3.7.6"
  }
 },
 "nbformat": 4,
 "nbformat_minor": 4
}
